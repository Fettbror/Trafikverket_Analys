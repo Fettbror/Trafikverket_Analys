{
 "cells": [
  {
   "cell_type": "code",
   "execution_count": 1,
   "metadata": {},
   "outputs": [
    {
     "name": "stdout",
     "output_type": "stream",
     "text": [
      "Data hämtad\n"
     ]
    }
   ],
   "source": [
    "import requests\n",
    "import json\n",
    "from dotenv import load_dotenv\n",
    "import os\n",
    "\n",
    "load_dotenv()\n",
    "\n",
    "def get_data():\n",
    "    api_key = os.getenv('API_KEY')\n",
    "    url = 'https://api.trafikinfo.trafikverket.se/v2/data.json'\n",
    "\n",
    "    payload = \"\"\"\n",
    "    <REQUEST>\n",
    "        <LOGIN authenticationkey='{}' />\n",
    "        <QUERY objecttype='Situation' schemaversion='1.5'>\n",
    "            <INCLUDE>Deviation</INCLUDE>\n",
    "        </QUERY>\n",
    "    </REQUEST>\n",
    "    \"\"\".format(api_key)\n",
    "\n",
    "    # Skicka API-anropet\n",
    "    response = requests.post(url, data=payload, headers={'Content-Type': 'text/xml'})\n",
    "\n",
    "    # Kontrollera om anropet lyckades\n",
    "    if response.status_code == 200:\n",
    "        data = response.json()\n",
    "        print(\"Data hämtad\")\n",
    "        return data\n",
    "    else:\n",
    "        print(f\"Misslyckades med att hämta data: {response.status_code}\")\n",
    "        print(response.text)\n",
    "        return None\n",
    "\n",
    "date = get_data()\n"
   ]
  },
  {
   "cell_type": "code",
   "execution_count": null,
   "metadata": {},
   "outputs": [],
   "source": [
    "data = get_data()\n",
    "\n",
    "for keys in data:\n",
    "    print(keys)"
   ]
  },
  {
   "cell_type": "code",
   "execution_count": 6,
   "metadata": {},
   "outputs": [
    {
     "name": "stdout",
     "output_type": "stream",
     "text": [
      "Data hämtad\n"
     ]
    }
   ],
   "source": [
    "data = get_data()\n",
    "\n",
    "with open ('data.json', 'w') as f:\n",
    "    json.dump(data, f, indent=4)"
   ]
  },
  {
   "cell_type": "code",
   "execution_count": 3,
   "metadata": {},
   "outputs": [
    {
     "name": "stdout",
     "output_type": "stream",
     "text": [
      "Data hämtad\n",
      "RESULT\n"
     ]
    }
   ],
   "source": [
    "data = get_data()\n",
    "\n",
    "for keys in data['RESPONSE']:\n",
    "    print(keys)"
   ]
  },
  {
   "cell_type": "code",
   "execution_count": null,
   "metadata": {},
   "outputs": [],
   "source": [
    "data = get_data()\n",
    "\n",
    "for result in data['RESPONSE']['RESULT']:\n",
    "    for situation in result['Situation']:\n",
    "        print(situation)"
   ]
  },
  {
   "cell_type": "code",
   "execution_count": null,
   "metadata": {},
   "outputs": [],
   "source": [
    "\n",
    "data = get_data()\n",
    "for result in data['RESPONSE']['RESULT']:\n",
    "    for situation in result['Situation']:\n",
    "        for deviation in situation['Deviation']:\n",
    "            with open('deviation.json', 'w') as f:\n",
    "                json.dump(deviation, f, indent=4)\n",
    "            print(deviation)"
   ]
  },
  {
   "cell_type": "code",
   "execution_count": null,
   "metadata": {},
   "outputs": [],
   "source": [
    "data = get_data()\n",
    "for result in data['RESPONSE']['RESULT']:\n",
    "    for situation in result['Situation']:\n",
    "        for deviation in situation['Deviation']:\n",
    "            for keys in deviation:\n",
    "                print(keys)\n",
    "        "
   ]
  },
  {
   "cell_type": "code",
   "execution_count": null,
   "metadata": {},
   "outputs": [],
   "source": [
    "for result in data['RESPONSE']['RESULT']:\n",
    "    for situation in result['Situation']:\n",
    "        for deviation in situation['Deviation']:\n",
    "            for keys in deviation:\n",
    "                for keys in deviation:\n",
    "                    print(f'{keys}: {deviation[keys]}')"
   ]
  }
 ],
 "metadata": {
  "kernelspec": {
   "display_name": ".venv",
   "language": "python",
   "name": "python3"
  },
  "language_info": {
   "codemirror_mode": {
    "name": "ipython",
    "version": 3
   },
   "file_extension": ".py",
   "mimetype": "text/x-python",
   "name": "python",
   "nbconvert_exporter": "python",
   "pygments_lexer": "ipython3",
   "version": "3.12.5"
  }
 },
 "nbformat": 4,
 "nbformat_minor": 2
}
