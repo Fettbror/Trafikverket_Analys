{
 "cells": [
  {
   "cell_type": "code",
   "execution_count": 3,
   "metadata": {},
   "outputs": [],
   "source": [
    "\n",
    "import json\n",
    "\n",
    "with open ('../data/data_deviation.json', 'r') as f:\n",
    "    data = json.load(f)"
   ]
  },
  {
   "cell_type": "code",
   "execution_count": null,
   "metadata": {},
   "outputs": [],
   "source": [
    "for key, value in data[0].items():\n",
    "    print(f\"{key}: {value}\")"
   ]
  },
  {
   "cell_type": "code",
   "execution_count": null,
   "metadata": {},
   "outputs": [],
   "source": [
    "for item in data:\n",
    "    print(\"Ny dictionary:\")\n",
    "    for key, value in item.items():\n",
    "        print(f\"{key}: {value}\")\n",
    "    print(\"\\n\")"
   ]
  },
  {
   "cell_type": "code",
   "execution_count": null,
   "metadata": {},
   "outputs": [],
   "source": [
    "for item in data:\n",
    "    print(\"Ny dictionary:\")\n",
    "    for key, value in item.items():\n",
    "        print(f\"{key}: {value}\")\n",
    "    print(\"\\n\")"
   ]
  },
  {
   "cell_type": "code",
   "execution_count": 5,
   "metadata": {},
   "outputs": [],
   "source": [
    "filtered_data = []\n",
    "\n",
    "with open ('../data/data_deviation_2024_09_24.json', 'r') as f:\n",
    "    data = json.load(f)\n",
    "\n",
    "for item in data:\n",
    "    # Skapa en ny dictionary med endast de önskade fälten\n",
    "    filtered_item = {\n",
    "        \"StartTime\": item.get('StartTime'),\n",
    "        \"EndTime\": item.get('EndTime'),\n",
    "        \"LocationDescriptor\": item.get('LocationDescriptor'),\n",
    "        \"AffectedDirection\": item.get('AffectedDirection'),\n",
    "        \"Header\": item.get('Header'),\n",
    "        \"MessageCode\": item.get('MessageCode'),\n",
    "        \"RoadNumber\": item.get('RoadNumber'),\n",
    "        \"TrafficRestrictionType\": item.get('TrafficRestrictionType'),\n",
    "        \"ValidUntilFurtherNotice\": item.get('ValidUntilFurtherNotice')\n",
    "    }\n",
    "    # Lägg till den filtrerade dictionaryn i listan\n",
    "    filtered_data.append(filtered_item)\n",
    "\n",
    "# Skriv den nya listan till en ny JSON-fil\n",
    "with open('../data/data_deviation_sorted_2024_09_24.json', 'w') as f:\n",
    "    json.dump(filtered_data, f, indent=4)\n"
   ]
  },
  {
   "cell_type": "code",
   "execution_count": null,
   "metadata": {},
   "outputs": [],
   "source": [
    "with open ('../data/data_deviation_sorted.json', 'r') as f:\n",
    "    data = json.load(f)\n",
    "\n",
    "    sorted_data = sorted(data, key=lambda x: x['StartTime'])\n",
    "    for item in sorted_data[:20]:\n",
    "        print(item['StartTime'])"
   ]
  },
  {
   "cell_type": "code",
   "execution_count": null,
   "metadata": {},
   "outputs": [],
   "source": [
    "import json\n",
    "with open ('../data/data_deviation_sorted_2024_09_24.json', 'r') as f:\n",
    "    data = json.load(f)\n",
    "\n",
    "    sorted_data = sorted(data, key=lambda x: x['StartTime'], reverse=True)\n",
    "    for item in sorted_data[:20]:\n",
    "        print(item['StartTime'])"
   ]
  },
  {
   "cell_type": "code",
   "execution_count": 8,
   "metadata": {},
   "outputs": [
    {
     "name": "stdout",
     "output_type": "stream",
     "text": [
      "308\n"
     ]
    }
   ],
   "source": [
    "import json\n",
    "with open ('../data/data_deviation_sorted_2024_09_24.json', 'r') as f:\n",
    "    data = json.load(f)\n",
    "\n",
    "    print(len(data))"
   ]
  }
 ],
 "metadata": {
  "kernelspec": {
   "display_name": ".venv",
   "language": "python",
   "name": "python3"
  },
  "language_info": {
   "codemirror_mode": {
    "name": "ipython",
    "version": 3
   },
   "file_extension": ".py",
   "mimetype": "text/x-python",
   "name": "python",
   "nbconvert_exporter": "python",
   "pygments_lexer": "ipython3",
   "version": "3.11.5"
  }
 },
 "nbformat": 4,
 "nbformat_minor": 2
}
